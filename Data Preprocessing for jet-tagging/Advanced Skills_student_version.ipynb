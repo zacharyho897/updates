{
 "cells": [
  {
   "cell_type": "markdown",
   "metadata": {},
   "source": [
    "# Advanced Skills\n",
    "## 1. Downsizing data with a specific ratio\n",
    "### 1) Introduction\n",
    "Have you thought that given data with 5 labels, you can also do a binary classification? For example, we have 5 jets: t, q, g, w, z. Now instead of 5 Tagger, we only want to do the T Tagger, which means all the other jets are clustered to not-T. In this case, if we directly use the data, it results in input imbalance: T is only 1/4 of not-T. Thus we need to downsize the data so that elements are relatively balanced.<br><br>\n",
    "Additionally, for testing, we usually use part of the data, so downsizing is very necessary.\n",
    "\n"
   ]
  },
  {
   "cell_type": "code",
   "execution_count": 3,
   "metadata": {},
   "outputs": [
    {
     "name": "stdout",
     "output_type": "stream",
     "text": [
      "There are 6997 constituents of T jets.\n"
     ]
    }
   ],
   "source": [
    "import numpy as np\n",
    "import h5py\n",
    "import pandas as pd\n",
    "from tqdm import tqdm\n",
    "# TODO\n",
    "# load the data \"samples.h5\" and find out how many constituents are labbled as \"j_t\".\n",
    "# Hint: if a constituent belongs to t jet, the value of \"j_t\" should be 1, otherwise 0.\n",
    "filPath = \"data/samples.h5\"\n",
    "df = pd.read_hdf(filPath, key=\"data\")\n",
    "tJets = df[df['j_t']==1]\n",
    "\n",
    "print(\"There are %d constituents of T jets.\" %(tJets.shape[0]))"
   ]
  },
  {
   "cell_type": "markdown",
   "metadata": {},
   "source": [
    "However, we cannot directly split this Series. Instead, we want to split the data by jets."
   ]
  },
  {
   "cell_type": "code",
   "execution_count": 4,
   "metadata": {},
   "outputs": [],
   "source": [
    "# TODO\n",
    "# Find out the distribution of each kind of jet.\n",
    "# Hint: for each jet, you only want to count it once.\n",
    "labels=['j_t','j_q','j_g','j_w','j_z']\n",
    "jet_dict = {}\n",
    "for label in labels:\n",
    "    jet_dict[label] = np.unique(df[df[label]==1]['j_index'])"
   ]
  },
  {
   "cell_type": "markdown",
   "metadata": {},
   "source": [
    "Now we have a dictionary in which keys are labels and values are correpsponding jet indices.<br>\n",
    "Let's take 10 for each jet."
   ]
  },
  {
   "cell_type": "code",
   "execution_count": 5,
   "metadata": {},
   "outputs": [
    {
     "name": "stdout",
     "output_type": "stream",
     "text": [
      "<class 'pandas.core.frame.DataFrame'>\n",
      "Int64Index: 2720 entries, 303 to 24741\n",
      "Data columns (total 79 columns):\n",
      " #   Column             Non-Null Count  Dtype  \n",
      "---  ------             --------------  -----  \n",
      " 0   index              2720 non-null   object \n",
      " 1   j_ptfrac           2720 non-null   float32\n",
      " 2   j_pt               2720 non-null   float32\n",
      " 3   j_eta              2720 non-null   float32\n",
      " 4   j_mass             2720 non-null   float32\n",
      " 5   j_tau1_b1          2720 non-null   float32\n",
      " 6   j_tau2_b1          2720 non-null   float32\n",
      " 7   j_tau3_b1          2720 non-null   float32\n",
      " 8   j_tau1_b2          2720 non-null   float32\n",
      " 9   j_tau2_b2          2720 non-null   float32\n",
      " 10  j_tau3_b2          2720 non-null   float32\n",
      " 11  j_tau32_b1         2720 non-null   float32\n",
      " 12  j_tau32_b2         2720 non-null   float32\n",
      " 13  j_zlogz            2720 non-null   float32\n",
      " 14  j_c1_b0            2720 non-null   float32\n",
      " 15  j_c1_b1            2720 non-null   float32\n",
      " 16  j_c1_b2            2720 non-null   float32\n",
      " 17  j_c2_b1            2720 non-null   float32\n",
      " 18  j_c2_b2            2720 non-null   float32\n",
      " 19  j_d2_b1            2720 non-null   float32\n",
      " 20  j_d2_b2            2720 non-null   float32\n",
      " 21  j_d2_a1_b1         2720 non-null   float32\n",
      " 22  j_d2_a1_b2         2720 non-null   float32\n",
      " 23  j_m2_b1            2720 non-null   float32\n",
      " 24  j_m2_b2            2720 non-null   float32\n",
      " 25  j_n2_b1            2720 non-null   float32\n",
      " 26  j_n2_b2            2720 non-null   float32\n",
      " 27  j_tau1_b1_mmdt     2720 non-null   float32\n",
      " 28  j_tau2_b1_mmdt     2720 non-null   float32\n",
      " 29  j_tau3_b1_mmdt     2720 non-null   float32\n",
      " 30  j_tau1_b2_mmdt     2720 non-null   float32\n",
      " 31  j_tau2_b2_mmdt     2720 non-null   float32\n",
      " 32  j_tau3_b2_mmdt     2720 non-null   float32\n",
      " 33  j_tau32_b1_mmdt    2720 non-null   float32\n",
      " 34  j_tau32_b2_mmdt    2720 non-null   float32\n",
      " 35  j_c1_b0_mmdt       2720 non-null   float32\n",
      " 36  j_c1_b1_mmdt       2720 non-null   float32\n",
      " 37  j_c1_b2_mmdt       2720 non-null   float32\n",
      " 38  j_c2_b1_mmdt       2720 non-null   float32\n",
      " 39  j_c2_b2_mmdt       2720 non-null   float32\n",
      " 40  j_d2_b1_mmdt       2720 non-null   float32\n",
      " 41  j_d2_b2_mmdt       2720 non-null   float32\n",
      " 42  j_d2_a1_b1_mmdt    2720 non-null   float32\n",
      " 43  j_d2_a1_b2_mmdt    2720 non-null   float32\n",
      " 44  j_m2_b1_mmdt       2720 non-null   float32\n",
      " 45  j_m2_b2_mmdt       2720 non-null   float32\n",
      " 46  j_n2_b1_mmdt       2720 non-null   float32\n",
      " 47  j_n2_b2_mmdt       2720 non-null   float32\n",
      " 48  j_mass_trim        2720 non-null   float32\n",
      " 49  j_mass_mmdt        2720 non-null   float32\n",
      " 50  j_mass_prun        2720 non-null   float32\n",
      " 51  j_mass_sdb2        2720 non-null   float32\n",
      " 52  j_mass_sdm1        2720 non-null   float32\n",
      " 53  j_multiplicity     2720 non-null   float32\n",
      " 54  j1_px              2720 non-null   float32\n",
      " 55  j1_py              2720 non-null   float32\n",
      " 56  j1_pz              2720 non-null   float32\n",
      " 57  j1_e               2720 non-null   float32\n",
      " 58  j1_pdgid           2720 non-null   float32\n",
      " 59  j1_erel            2720 non-null   float32\n",
      " 60  j1_pt              2720 non-null   float32\n",
      " 61  j1_ptrel           2720 non-null   float32\n",
      " 62  j1_eta             2720 non-null   float32\n",
      " 63  j1_etarel          2720 non-null   float32\n",
      " 64  j1_etarot          2720 non-null   float32\n",
      " 65  j1_phi             2720 non-null   float32\n",
      " 66  j1_phirel          2720 non-null   float32\n",
      " 67  j1_phirot          2720 non-null   float32\n",
      " 68  j1_deltaR          2720 non-null   float32\n",
      " 69  j1_costheta        2720 non-null   float32\n",
      " 70  j1_costhetarel     2720 non-null   float32\n",
      " 71  j1_e1mcosthetarel  2720 non-null   float32\n",
      " 72  j_g                2720 non-null   object \n",
      " 73  j_q                2720 non-null   object \n",
      " 74  j_w                2720 non-null   object \n",
      " 75  j_z                2720 non-null   object \n",
      " 76  j_t                2720 non-null   object \n",
      " 77  j_undef            2720 non-null   object \n",
      " 78  j_index            2720 non-null   object \n",
      "dtypes: float32(71), object(8)\n",
      "memory usage: 945.6+ KB\n"
     ]
    }
   ],
   "source": [
    "# Example: randomly take 10 w jets.\n",
    "jet_w = np.unique(df[df['j_w']==1]['j_index'])\n",
    "chosen_jets = np.random.choice(jet_w, size = 10, replace=False) \n",
    "# Replace=False => we won't take an element more than once.\n",
    "w_10 = df[df[\"j_index\"].isin(chosen_jets)]\n",
    "\n",
    "# TODO #1\n",
    "# Create a dataframe with 10 jets for each kind.\n",
    "# Hint: operate seperately and then concatenate.\n",
    "jet_size = np.repeat([10],5)\n",
    "\n",
    "\n",
    "\n",
    "\n",
    "# TODO #2\n",
    "# Bonus: Try to create a dataset with 100 jets for total but with ratio t:q:g:z:w = 3:2:1:0:0.\n",
    "# Hint: change random size.\n",
    "df100 = pd.DataFrame()\n",
    "\n",
    "for label, indices in jet_dict.items():\n",
    "    chosen_jets = np.random.choice(indices,size=jet_size[labels.index(label)], replace=False)\n",
    "    temp_df = df[df['j_index'].isin(chosen_jets)]\n",
    "    df100 = pd.concat([df100,temp_df],axis=0)\n",
    "\n",
    "df100.info()"
   ]
  },
  {
   "cell_type": "markdown",
   "metadata": {},
   "source": [
    "## 2. N-Constituents of Jets\n",
    "The amount of constituents varies in jets, ranging from 20 to more than 200. When we classify, we always expect to keep each jet containning the same number of constituents. For example, if we set nConstituents = 40, ranking by the transverse momentum (default), the first 40 constituents will be kept. If constituents in a jet are less than 40, we will use zero-padding."
   ]
  },
  {
   "cell_type": "code",
   "execution_count": 6,
   "metadata": {},
   "outputs": [],
   "source": [
    "# TODO\n",
    "# How many constituents are in the jet with j_index=100139009?\n",
    "def data_transform (nConstituents, data):\n",
    "    kColumns = data.columns.shape[0]\n",
    "\n",
    "    # we expect the output shape (mJets, nConstituents, kColumns)\n",
    "    jet_list = list(set(data['j_index']))\n",
    "    data_expected = []\n",
    "\n",
    "    for jet in tqdm(jet_list):\n",
    "        # Zero padding for insufficient jets. \n",
    "        # So we create a empty array and add signals in.\n",
    "        jet_frame = np.zeros((nConstituents, kColumns))\n",
    "        jet_temp = data[data['j_index']==jet].values\n",
    "        if (jet_temp.shape[0]<nConstituents):\n",
    "            for i, constituent in enumerate(jet_temp):\n",
    "                jet_frame[i] = constituent\n",
    "        else:\n",
    "            jet_frame = jet_temp[:nConstituents] + jet_frame\n",
    "        data_expected.append(jet_frame)\n",
    "    # \"j_index\" is useless for machine learning part. Drop it!\n",
    "\n",
    "    return np.array(data_expected)[:,:,:-1]"
   ]
  },
  {
   "cell_type": "markdown",
   "metadata": {},
   "source": [
    "You are right if you got 35. But we want exact 40 slots for each jet, which means we need to do zero-padding for the last 5 slots."
   ]
  },
  {
   "cell_type": "code",
   "execution_count": 7,
   "metadata": {},
   "outputs": [],
   "source": [
    "# Example: zero-padding [0,1,2] to [0,1,2,0,0]\n",
    "array = np.arange(0,3,1)\n",
    "\n",
    "# Create an zero array with expected shape (1,5).\n",
    "array_exp = np.zeros(5,dtype=int)           \n",
    "# copy the corresponding elements\n",
    "for i,ele in enumerate(array):\n",
    "    array_exp[i] = ele"
   ]
  },
  {
   "cell_type": "code",
   "execution_count": 8,
   "metadata": {},
   "outputs": [],
   "source": [
    "# Example: Slice [0,1,2,3,4,5,6,7] to [0,1,2,3,4]\n",
    "array = np.arange(0,8,1)\n",
    "\n",
    "# Create an zero array with expected shape (1,5).\n",
    "array_exp = np.zeros(5,dtype=int)           \n",
    "# Add the corresponding elements\n",
    "array_exp = array[:5]+array_exp"
   ]
  },
  {
   "cell_type": "markdown",
   "metadata": {},
   "source": [
    "Now we know how to deal with the two circumstances: nConstituents is greater or lower than the expected number. First let's try integrate it into one method."
   ]
  },
  {
   "cell_type": "code",
   "execution_count": 10,
   "metadata": {},
   "outputs": [],
   "source": [
    "# TODO\n",
    "# Write a method that can fit this array into the shape (2,5).\n",
    "# Hint: operate on each row and then combine them. (for loop)\n",
    "array = [[0,1,2], [0,1,2,3,4,5,6,7]]\n",
    "# I don't understand it has 11 elements? I can do it if it had 10\n",
    "# newarr = array.flatten()\n",
    "# newarr.reshape(2,5)\n"
   ]
  },
  {
   "cell_type": "code",
   "execution_count": null,
   "metadata": {},
   "outputs": [],
   "source": [
    "# TODO\n",
    "# In the next step we will use the method we just learned to trim our data into the desired shape.\n",
    "# Hint: 1. Use \"j_index\" to identify jets. \n",
    "# 2. The expected output shape is in 3D: (mJets, nConstituents, kColumns), \n",
    "# so the zero array you create would be in size (nConstituents, kColumns)\n",
    "# 3. loop through jets, operate one by one and then combine."
   ]
  },
  {
   "cell_type": "markdown",
   "metadata": {},
   "source": [
    "## 3. Jet Clustering & Rotating\n",
    "### 1) Dependencies\n",
    "You need Linux to run \"pyjet\". This is the tutorial to install WSL: [WSL Tutorial](https://github.com/451488975/Anaconda_Setup/blob/master/CPU_with_WSL.ipynb)\n",
    "\n",
    "Make sure you have:\n",
    " - pyjet\n",
    "<br>\n",
    "\n",
    "### 2) Get low/high-level features\n",
    "Sometimes we have data with 4-momenta form, either (e,px,py,pz) or (pT,eta,phi,mass). But we need more, such as etaRel,phiRel ..."
   ]
  },
  {
   "cell_type": "code",
   "execution_count": 50,
   "metadata": {},
   "outputs": [],
   "source": [
    "# TODO\n",
    "# Load and observe your data: columns, shape, datatype...\n",
    "# Answer the questions:\n",
    "# 1. how many jets are there?\n",
    "# 2. how many constituents are in each jet?\n",
    "# 3. Are all the jets are full? (no zero-paddings)\n",
    "# 4. What's the datatype for each feature\n",
    "# 5. What features are we gonna use to get transverse momentum, psudorapidity...\n",
    "from pyjet import cluster\n",
    "\n",
    "def _load (filePath, nJets=200000, nConstituents=40):\n",
    "    '''\n",
    "    Returns:\n",
    "        momenta: (nJets, 4, nConstituents)\n",
    "    '''\n",
    "    cols = ['E_'+str(i) for i in range(nConstituents)]+ ['PX_'+str(i) for i in range(nConstituents)] + ['PX_'+str(i) for i in range(nConstituents)] + ['PY_'+str(i) for i in range(nConstituents)] + ['PZ_'+str(i) for i in range(nConstituents)] + ['is_signal_new']\n",
    "\n",
    "    df = pd.read_hdf(filePath,key='data',stop=nJets, columns = cols)\n",
    "    # Take all the 4 momentum from 200 particles in all jets and reshape them into one particle per row\n",
    "    momenta = df.iloc[:,:-1].to_numpy()\n",
    "    momenta = momenta.reshape(-1,nConstituents,4)\n",
    "    nJets = slice(nJets)\n",
    "    momenta = momenta[nJets, :nConstituents, :]\n",
    "    momenta = np.transpose(momenta, (0, 2, 1))\n",
    "    label = df['is_signal_new']\n",
    "    return momenta, label"
   ]
  },
  {
   "cell_type": "code",
   "execution_count": 51,
   "metadata": {},
   "outputs": [],
   "source": [
    "# TODO\n",
    "# Load with specific shape (nJets, 4, nConstituents)\n",
    "# Hint: read through the instruction of pands.read_hdf, \n",
    "# you will find a way to take just a part of rows and columns.\n",
    "filePath = \"data/4m_samples.h5\"\n",
    "nJets = 100\n",
    "nConstituents = 40\n",
    "momenta,labels = _load(filePath,nJets , nConstituents)"
   ]
  },
  {
   "cell_type": "code",
   "execution_count": 52,
   "metadata": {},
   "outputs": [],
   "source": [
    "# I have to provide the answer for the last question, because all subsequent steps are based on this step.\n",
    "def _getFeatures (momenta,nConstituents):\n",
    "    # Jet features\n",
    "    jetMomenta = np.sum(momenta, axis=2)\n",
    "    jetPt = np.linalg.norm(jetMomenta[:, 1:3], axis=1)[..., np.newaxis]\n",
    "    jetE = jetMomenta[:, 0][..., np.newaxis]\n",
    "    jetP = np.linalg.norm(jetMomenta[:, 1:], axis=1)\n",
    "    jetEta = 0.5 * np.log((jetP + jetMomenta[:, 3]) / (jetP - jetMomenta[:, 3]))[..., np.newaxis]\n",
    "    jetPhi = np.arctan2(jetMomenta[:, 2], jetMomenta[:, 1])[..., np.newaxis]\n",
    "    jetTheta = 2*np.arctan(np.exp(-jetEta))\n",
    "    # Copy nConstituents times to match the shape (nJets, nConstituents).\n",
    "    jetPt = np.tile(jetPt,nConstituents)\n",
    "    jetE = np.tile(jetE,nConstituents)\n",
    "    jetEta = np.tile(jetEta,nConstituents)\n",
    "    jetPhi = np.tile(jetPhi,nConstituents)\n",
    "\n",
    "    # Constituent features\n",
    "    # delta eta, delta phi, log pT, log E,log pT / pTjet, log E / Ejet, delta R\n",
    "    pT = np.linalg.norm(momenta[:, 1:3, :], axis=1)\n",
    "    e = momenta[:, 0, :]\n",
    "    p = np.linalg.norm(momenta[:, 1:, :], axis=1)\n",
    "    mass = e**2- p**2\n",
    "    # eta = 0.5 * np.log((p + momenta[:, 3, :]) / (p - momenta[:, 3, :]))\n",
    "    eta = np.arcsinh(momenta[:,3,:]/pT)\n",
    "    etaRel = eta - jetEta\n",
    "    phi = np.arctan2(momenta[:, 2, :], momenta[:, 1, :])\n",
    "    phiRel = np.unwrap(phi - jetPhi)\n",
    "    dR = np.sqrt(phi ** 2 + eta ** 2)\n",
    "    theta = 2*np.arctan(np.exp(-eta))\n",
    "    cosThetaRel = np.cos(theta-jetTheta)\n",
    "    \n",
    "    # Concatenate\n",
    "    # features = np.stack([jetPt, jetE, jetEta, jetPhi, pT, mass, e, eta, etaRel, phi, phiRel, dR, cosThetaRel],axis=-1)\n",
    "    features = np.stack([pT,eta,phi,mass, etaRel, phiRel, e, dR, cosThetaRel, jetPt, jetE, jetEta, jetPhi],axis=-1)\n",
    "    return features"
   ]
  },
  {
   "cell_type": "code",
   "execution_count": 53,
   "metadata": {},
   "outputs": [
    {
     "name": "stderr",
     "output_type": "stream",
     "text": [
      "<ipython-input-52-8152dea33b9c>:24: RuntimeWarning: invalid value encountered in true_divide\n",
      "  eta = np.arcsinh(momenta[:,3,:]/pT)\n"
     ]
    }
   ],
   "source": [
    "# TODO\n",
    "# get low level features: pT, eta, phi, ... \n",
    "# Try to get as many feature as possible, the answer will be probided after camp.\n",
    "# Hint: reference page (https://www.lhc-closer.es/taking_a_closer_look_at_lhc/0.momentum)\n",
    "features = _getFeatures(momenta,nConstituents)\n"
   ]
  },
  {
   "cell_type": "markdown",
   "metadata": {},
   "source": [
    "### 3) Cluster and Rotate\n",
    "Rotation is performed to remove the stochastic nature of the decay angle relative to the η − φ coordinate system. For two-body decay processes (such as the hadronic decay of a W boson) the direction connecting the axes of the leading two subjets can be rotated until the leading subject is directly above the subleading subjet.\n",
    "<br><br>\n",
    "More information about Jet-Image: [Paper](https://arxiv.org/pdf/1407.5675.pdf)"
   ]
  },
  {
   "cell_type": "code",
   "execution_count": 55,
   "metadata": {},
   "outputs": [],
   "source": [
    "# Example: Clustering\n",
    "# For each event(jet), we cluster it to get subjets.\n",
    "# Assuming you already have one piece of jet called \"event\".\n",
    "# Unfortunately, it is not runable, due to the undefined parameter \"event\",\n",
    "# but if you complete the get features part, at least you have 'pT, eta, phi, mass', \n",
    "# you can load your results to run this code.\n",
    "# Notice that event is one jet, and features should follow the order 'pT, eta, phi, mass'.\n",
    "from pyjet import cluster\n",
    "flattened_event = np.core.records.fromarrays( [event[:,0],event[:,1],event[:,2],event[:,3]], names= 'pT, eta, phi, mass' , formats = 'f8, f8, f8,f8')\n",
    "sequence = cluster(flattened_event, R=R0, p= p)\n",
    "jets = sequence.inclusive_jets()"
   ]
  },
  {
   "cell_type": "markdown",
   "metadata": {},
   "source": [
    "If you get error about pyjet, please check wheter you are using Linux system. WSL is recommmened."
   ]
  },
  {
   "cell_type": "code",
   "execution_count": 46,
   "metadata": {},
   "outputs": [
    {
     "name": "stderr",
     "output_type": "stream",
     "text": [
      "100%|██████████| 100/100 [00:00<00:00, 5408.79it/s]\n"
     ]
    }
   ],
   "source": [
    "# TODO\n",
    "# Try clustering one piece of jet from your results.\n",
    "features = getRot(features,R0=0.2,p=-1)"
   ]
  },
  {
   "cell_type": "markdown",
   "metadata": {},
   "source": [
    "Now we have the four features of subjets. We want to put the leading subjet at the origin, and the subleading subjet at -pi/2\n"
   ]
  },
  {
   "cell_type": "code",
   "execution_count": 44,
   "metadata": {},
   "outputs": [
    {
     "ename": "NameError",
     "evalue": "name 'eta' is not defined",
     "output_type": "error",
     "traceback": [
      "\u001b[0;31m---------------------------------------------------------------------------\u001b[0m",
      "\u001b[0;31mNameError\u001b[0m                                 Traceback (most recent call last)",
      "\u001b[0;32m<ipython-input-44-a59754bd01dd>\u001b[0m in \u001b[0;36m<module>\u001b[0;34m\u001b[0m\n\u001b[1;32m      9\u001b[0m     \u001b[0;32mreturn\u001b[0m \u001b[0mx\u001b[0m\u001b[0;34m\u001b[0m\u001b[0;34m\u001b[0m\u001b[0m\n\u001b[1;32m     10\u001b[0m \u001b[0;34m\u001b[0m\u001b[0m\n\u001b[0;32m---> 11\u001b[0;31m \u001b[0meta\u001b[0m \u001b[0;34m-=\u001b[0m \u001b[0mjets\u001b[0m\u001b[0;34m[\u001b[0m\u001b[0;36m0\u001b[0m\u001b[0;34m]\u001b[0m\u001b[0;34m.\u001b[0m\u001b[0meta\u001b[0m\u001b[0;34m\u001b[0m\u001b[0;34m\u001b[0m\u001b[0m\n\u001b[0m\u001b[1;32m     12\u001b[0m \u001b[0mphi\u001b[0m \u001b[0;34m=\u001b[0m \u001b[0mnp\u001b[0m\u001b[0;34m.\u001b[0m\u001b[0marray\u001b[0m\u001b[0;34m(\u001b[0m \u001b[0;34m[\u001b[0m\u001b[0mdeltaPhi\u001b[0m\u001b[0;34m(\u001b[0m\u001b[0mi\u001b[0m\u001b[0;34m,\u001b[0m\u001b[0mjets\u001b[0m\u001b[0;34m[\u001b[0m\u001b[0;36m0\u001b[0m\u001b[0;34m]\u001b[0m\u001b[0;34m.\u001b[0m\u001b[0mphi\u001b[0m\u001b[0;34m)\u001b[0m \u001b[0;32mfor\u001b[0m \u001b[0mi\u001b[0m \u001b[0;32min\u001b[0m \u001b[0mphi\u001b[0m\u001b[0;34m]\u001b[0m\u001b[0;34m)\u001b[0m\u001b[0;34m\u001b[0m\u001b[0;34m\u001b[0m\u001b[0m\n\u001b[1;32m     13\u001b[0m \u001b[0;34m\u001b[0m\u001b[0m\n",
      "\u001b[0;31mNameError\u001b[0m: name 'eta' is not defined"
     ]
    }
   ],
   "source": [
    "# Example: Rotation\n",
    "# shifts all data with respect to the leading subjet so that\n",
    "# the Jet Image is centerd at the origin (eta,phi) = (0,0).\n",
    "def deltaPhi(phi1,phi2):\n",
    "    # Make sure it in the range (-pi, pi)\n",
    "    x = phi1-phi2\n",
    "    while x>= np.pi: x -= np.pi*2.\n",
    "    while x< -np.pi: x += np.pi*2.\n",
    "    return x\n",
    "\n",
    "eta -= jets[0].eta\n",
    "phi = np.array( [deltaPhi(i,jets[0].phi) for i in phi])\n",
    "\n",
    "# Rotate the jet image such that the second leading\n",
    "# subjet is located at -pi/2\n",
    "s1x, s1y = jets[1].eta -jets[0].eta, deltaPhi(jets[1].phi,jets[0].phi)\n",
    "\n",
    "theta = np.arctan2(s1y, s1x)\n",
    "if theta < 0.0:\n",
    "    theta += 2 * np.pi\n",
    "def rotate(x, y, a):\n",
    "    xp = x * np.cos(a) - y * np.sin(a)\n",
    "    yp = x * np.sin(a) + y * np.cos(a)\n",
    "    return xp, yp\n",
    "etaRot, phiRot = rotate(eta, phi, np.pi - theta)"
   ]
  },
  {
   "cell_type": "code",
   "execution_count": null,
   "metadata": {},
   "outputs": [],
   "source": []
  },
  {
   "cell_type": "code",
   "execution_count": 43,
   "metadata": {},
   "outputs": [
    {
     "name": "stderr",
     "output_type": "stream",
     "text": [
      "  0%|          | 0/100 [00:00<?, ?it/s]\n"
     ]
    },
    {
     "ename": "NameError",
     "evalue": "name 'rotate' is not defined",
     "output_type": "error",
     "traceback": [
      "\u001b[0;31m---------------------------------------------------------------------------\u001b[0m",
      "\u001b[0;31mNameError\u001b[0m                                 Traceback (most recent call last)",
      "\u001b[0;32m<ipython-input-43-72c472d7107b>\u001b[0m in \u001b[0;36m<module>\u001b[0;34m\u001b[0m\n\u001b[1;32m     51\u001b[0m     \u001b[0;32mreturn\u001b[0m \u001b[0mfeatures\u001b[0m\u001b[0;34m\u001b[0m\u001b[0;34m\u001b[0m\u001b[0m\n\u001b[1;32m     52\u001b[0m \u001b[0;34m\u001b[0m\u001b[0m\n\u001b[0;32m---> 53\u001b[0;31m \u001b[0mfeatures\u001b[0m \u001b[0;34m=\u001b[0m \u001b[0mgetRot\u001b[0m\u001b[0;34m(\u001b[0m\u001b[0mfeatures\u001b[0m\u001b[0;34m,\u001b[0m\u001b[0mR0\u001b[0m\u001b[0;34m=\u001b[0m\u001b[0;36m0.2\u001b[0m\u001b[0;34m,\u001b[0m\u001b[0mp\u001b[0m\u001b[0;34m=\u001b[0m\u001b[0;34m-\u001b[0m\u001b[0;36m1\u001b[0m\u001b[0;34m)\u001b[0m\u001b[0;34m\u001b[0m\u001b[0;34m\u001b[0m\u001b[0m\n\u001b[0m",
      "\u001b[0;32m<ipython-input-43-72c472d7107b>\u001b[0m in \u001b[0;36mgetRot\u001b[0;34m(features, R0, p, ep)\u001b[0m\n\u001b[1;32m     43\u001b[0m     \u001b[0;32mfor\u001b[0m \u001b[0mi\u001b[0m \u001b[0;32min\u001b[0m \u001b[0mtqdm\u001b[0m\u001b[0;34m(\u001b[0m\u001b[0mrange\u001b[0m\u001b[0;34m(\u001b[0m\u001b[0mfeatures\u001b[0m\u001b[0;34m.\u001b[0m\u001b[0mshape\u001b[0m\u001b[0;34m[\u001b[0m\u001b[0;36m0\u001b[0m\u001b[0;34m]\u001b[0m\u001b[0;34m)\u001b[0m\u001b[0;34m)\u001b[0m\u001b[0;34m:\u001b[0m\u001b[0;34m\u001b[0m\u001b[0;34m\u001b[0m\u001b[0m\n\u001b[1;32m     44\u001b[0m         \u001b[0mevent\u001b[0m \u001b[0;34m=\u001b[0m \u001b[0mfeatures\u001b[0m\u001b[0;34m[\u001b[0m\u001b[0mi\u001b[0m\u001b[0;34m,\u001b[0m\u001b[0;34m:\u001b[0m\u001b[0;34m,\u001b[0m\u001b[0;34m:\u001b[0m\u001b[0;36m4\u001b[0m\u001b[0;34m]\u001b[0m\u001b[0;34m\u001b[0m\u001b[0;34m\u001b[0m\u001b[0m\n\u001b[0;32m---> 45\u001b[0;31m         \u001b[0meta_R\u001b[0m\u001b[0;34m,\u001b[0m\u001b[0mphi_R\u001b[0m \u001b[0;34m=\u001b[0m \u001b[0m_clusterAndRotate\u001b[0m\u001b[0;34m(\u001b[0m\u001b[0mevent\u001b[0m\u001b[0;34m,\u001b[0m\u001b[0mR0\u001b[0m\u001b[0;34m)\u001b[0m\u001b[0;34m\u001b[0m\u001b[0;34m\u001b[0m\u001b[0m\n\u001b[0m\u001b[1;32m     46\u001b[0m         \u001b[0metaRot\u001b[0m\u001b[0;34m.\u001b[0m\u001b[0mappend\u001b[0m\u001b[0;34m(\u001b[0m\u001b[0meta_R\u001b[0m\u001b[0;34m)\u001b[0m\u001b[0;34m\u001b[0m\u001b[0;34m\u001b[0m\u001b[0m\n\u001b[1;32m     47\u001b[0m         \u001b[0mphiRot\u001b[0m\u001b[0;34m.\u001b[0m\u001b[0mappend\u001b[0m\u001b[0;34m(\u001b[0m\u001b[0mphi_R\u001b[0m\u001b[0;34m)\u001b[0m\u001b[0;34m\u001b[0m\u001b[0;34m\u001b[0m\u001b[0m\n",
      "\u001b[0;32m<ipython-input-43-72c472d7107b>\u001b[0m in \u001b[0;36m_clusterAndRotate\u001b[0;34m(event, R0, ep, p)\u001b[0m\n\u001b[1;32m     34\u001b[0m     \u001b[0;32mif\u001b[0m \u001b[0mtheta\u001b[0m \u001b[0;34m<\u001b[0m \u001b[0;36m0.0\u001b[0m\u001b[0;34m:\u001b[0m\u001b[0;34m\u001b[0m\u001b[0;34m\u001b[0m\u001b[0m\n\u001b[1;32m     35\u001b[0m         \u001b[0mtheta\u001b[0m \u001b[0;34m+=\u001b[0m \u001b[0;36m2\u001b[0m \u001b[0;34m*\u001b[0m \u001b[0mnp\u001b[0m\u001b[0;34m.\u001b[0m\u001b[0mpi\u001b[0m\u001b[0;34m\u001b[0m\u001b[0;34m\u001b[0m\u001b[0m\n\u001b[0;32m---> 36\u001b[0;31m     \u001b[0metaRot\u001b[0m\u001b[0;34m,\u001b[0m \u001b[0mphiRot\u001b[0m \u001b[0;34m=\u001b[0m \u001b[0mrotate\u001b[0m\u001b[0;34m(\u001b[0m\u001b[0meta\u001b[0m\u001b[0;34m,\u001b[0m \u001b[0mphi\u001b[0m\u001b[0;34m,\u001b[0m \u001b[0mnp\u001b[0m\u001b[0;34m.\u001b[0m\u001b[0mpi\u001b[0m \u001b[0;34m-\u001b[0m \u001b[0mtheta\u001b[0m\u001b[0;34m)\u001b[0m\u001b[0;34m\u001b[0m\u001b[0;34m\u001b[0m\u001b[0m\n\u001b[0m\u001b[1;32m     37\u001b[0m \u001b[0;34m\u001b[0m\u001b[0m\n\u001b[1;32m     38\u001b[0m     \u001b[0;32mreturn\u001b[0m \u001b[0metaRot\u001b[0m\u001b[0;34m,\u001b[0m \u001b[0mphiRot\u001b[0m\u001b[0;34m\u001b[0m\u001b[0;34m\u001b[0m\u001b[0m\n",
      "\u001b[0;31mNameError\u001b[0m: name 'rotate' is not defined"
     ]
    }
   ],
   "source": [
    "# TODO\n",
    "# Try to cluster and rotate every jet to get etaRot and phiRot.\n",
    "def _clusterAndRotate (event, R0, ep=False, p=-1):\n",
    "    '''\n",
    "    R: Clustering radius for the main jets\n",
    "    p = -1, 0, 1 => anti-kt, C/A, kt Algorithm\n",
    "    ep = False, True => (px,py,pz,e) , (pT,eta,phi,mass)\n",
    "    '''\n",
    "    flattened_event = np.core.records.fromarrays( [event[:,0],event[:,1],event[:,2],event[:,3]], names= 'pT, eta, phi, mass' , formats = 'f8, f8, f8,f8')\n",
    "    sequence = cluster(flattened_event, R=R0, p= p)\n",
    "    jets = sequence.inclusive_jets()\n",
    "\n",
    "    if len(jets)<2:\n",
    "        return []\n",
    "    else:\n",
    "        subjet_data = event\n",
    "        subjet_array = jets\n",
    "\n",
    "    pT = subjet_data[:, 0]\n",
    "    eta = subjet_data[:, 1]\n",
    "    phi = subjet_data[:, 2]\n",
    "    mass = subjet_data[:, 3]\n",
    "\n",
    "    # shifts all data with respect to the leading subjet so that\n",
    "    # the Jet Image is centerd at the origin (eta,phi) = (0,0).\n",
    "    eta -= subjet_array[0].eta\n",
    "    phi = np.array( [deltaPhi(i,subjet_array[0].phi) for i in phi])\n",
    "\n",
    "    # Rotate the jet image such that the second leading\n",
    "    # subjet is located at -pi/2\n",
    "    s1x, s1y = subjet_array[1].eta - subjet_array[0].eta, deltaPhi(subjet_array[1].phi,subjet_array[0].phi)\n",
    "\n",
    "    theta = np.arctan2(s1y, s1x)\n",
    "    if theta < 0.0:\n",
    "        theta += 2 * np.pi\n",
    "    etaRot, phiRot = rotate(eta, phi, np.pi - theta)\n",
    "    \n",
    "    return etaRot, phiRot\n",
    "\n",
    "def getRot (features,R0,p=-1,ep=False):\n",
    "    etaRot = []\n",
    "    phiRot = []\n",
    "    for i in tqdm(range(features.shape[0])):\n",
    "        event = features[i,:,:4]\n",
    "        eta_R,phi_R = _clusterAndRotate(event,R0)\n",
    "        etaRot.append(eta_R)\n",
    "        phiRot.append(phi_R)\n",
    "\n",
    "    features = np.append(features,np.expand_dims(etaRot,axis=2),axis=2)\n",
    "    features = np.append(features,np.expand_dims(phiRot,axis=2),axis=2)\n",
    "    return features\n",
    "\n",
    "features = getRot(features,R0=0.2,p=-1)"
   ]
  },
  {
   "cell_type": "markdown",
   "metadata": {},
   "source": [
    "### 4) Visualization\n",
    "Let's review how to plot Jet Image.<br>\n",
    "In this case, we are provided with data with zero-paddings. We need to eliminate them before ploting, since zeros would lead to nan for eta and phi."
   ]
  },
  {
   "cell_type": "code",
   "execution_count": 47,
   "metadata": {},
   "outputs": [],
   "source": [
    "# TODO\n",
    "# Find out the indices where pT=0 from the features you get previously.\n",
    "# Hint: np.where()\n",
    "from scipy.stats import binned_statistic_2d\n",
    "import matplotlib.pyplot as plt\n",
    "def getImage (features,R=1.2,bins=64):\n",
    "    validIndices = np.where(features[:,:,0]!=0)\n",
    "    etaRot = features[validIndices[0],validIndices[1],-2]\n",
    "    phiRot = features[validIndices[0],validIndices[1],-1]\n",
    "    pT = features[validIndices[0],validIndices[1],0]\n",
    "\n",
    "    ranges = np.array([[-R,R],[-R,R]])\n",
    "\n",
    "    # Sum energy deposits in each bin\n",
    "    digitized = binned_statistic_2d(etaRot, phiRot, pT, statistic=\"sum\", bins=bins, range= ranges)\n",
    "    jet_image = digitized.statistic\n",
    "    # Reverse the y axis, because it originally points downward.\n",
    "    jet_image = jet_image[::-1,:]\n",
    "\n",
    "    return jet_image\n",
    "\n",
    "def plotImage (jet_image):\n",
    "    # Take log to zoom in.\n",
    "    plt.imshow(np.log(jet_image), extent = [-1.2,1.2,-1.2,1.2], cmap = 'Blues')"
   ]
  },
  {
   "cell_type": "code",
   "execution_count": 48,
   "metadata": {},
   "outputs": [
    {
     "name": "stderr",
     "output_type": "stream",
     "text": [
      "<ipython-input-47-4c000deacda1>:24: RuntimeWarning: divide by zero encountered in log\n",
      "  plt.imshow(np.log(jet_image), extent = [-1.2,1.2,-1.2,1.2], cmap = 'Blues')\n"
     ]
    },
    {
     "data": {
      "image/png": "[encoded data removed]",
      "text/plain": [
       "<Figure size 432x288 with 1 Axes>"
      ]
     },
     "metadata": {
      "needs_background": "light"
     },
     "output_type": "display_data"
    }
   ],
   "source": [
    "# TODO\n",
    "# get all the non-zero (etaRot,phiRot,pT) set using conditional slicing.\n",
    "# And then plot a 2D-histogram.\n",
    "jet_image = getImage(features)\n",
    "plotImage(jet_image)"
   ]
  },
  {
   "cell_type": "code",
   "execution_count": null,
   "metadata": {},
   "outputs": [],
   "source": []
  }
 ],
 "metadata": {
  "kernelspec": {
   "display_name": "Python 3",
   "language": "python",
   "name": "python3"
  },
  "language_info": {
   "codemirror_mode": {
    "name": "ipython",
    "version": 3
   },
   "file_extension": ".py",
   "mimetype": "text/x-python",
   "name": "python",
   "nbconvert_exporter": "python",
   "pygments_lexer": "ipython3",
   "version": "3.8.5"
  }
 },
 "nbformat": 4,
 "nbformat_minor": 4
}
